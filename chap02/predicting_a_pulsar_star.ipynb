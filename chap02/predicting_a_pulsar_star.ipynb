{
 "cells": [
  {
   "cell_type": "code",
   "execution_count": 1,
   "metadata": {},
   "outputs": [],
   "source": [
    "import numpy as np\n",
    "import csv\n",
    "import time"
   ]
  },
  {
   "cell_type": "code",
   "execution_count": 2,
   "metadata": {},
   "outputs": [],
   "source": [
    "# Hyperparameter 설정\n",
    "RND_MEAN = 0 \n",
    "RND_STD = 0.0030 # 가중치 파라미터를 초기화 할 때 이용함\n",
    "\n",
    "LEARNING_RATE = 0.0001"
   ]
  },
  {
   "cell_type": "code",
   "execution_count": 3,
   "metadata": {},
   "outputs": [],
   "source": [
    "def randomize() -> None:\n",
    "    np.random.seed(time.time())"
   ]
  },
  {
   "cell_type": "code",
   "execution_count": 4,
   "metadata": {},
   "outputs": [],
   "source": [
    "def load_pulsar_dataset():\n",
    "    rows = []\n",
    "    with open('/Users/hyeonjin/workspace/dataset/predicting_pulsar_star/pulsar_data_train.csv') as f:\n",
    "        reader = csv.reader(f)\n",
    "        next(reader, None)\n",
    "        for row in reader:\n",
    "            if '' in row:\n",
    "                continue\n",
    "            rows.append(row)\n",
    "\n",
    "    with open('/Users/hyeonjin/workspace/dataset/predicting_pulsar_star/pulsar_data_test.csv') as f:\n",
    "        reader = csv.reader(f)\n",
    "        next(reader, None)\n",
    "        for row in reader:\n",
    "            if '' in row:\n",
    "                continue\n",
    "            rows.append(row)\n",
    "    \n",
    "    global data, input_cnt, output_cnt\n",
    "    input_cnt, output_cnt = 8, 1\n",
    "    data = np.asarray(rows, dtype=np.float32)"
   ]
  },
  {
   "cell_type": "code",
   "execution_count": 5,
   "metadata": {},
   "outputs": [],
   "source": [
    "def arrange_data(mb_size):\n",
    "    global data, shuffle_map, test_begin_idx # load_abalone_data 함수에서 생성한 data 전역 변수\n",
    "    shuffle_map = np.arange(data.shape[0]) # abalone data의 행 길이 만큼의 1차원 리스트 생성\n",
    "    np.random.shuffle(shuffle_map) # 리스트를 섞음\n",
    "    step_count = int(data.shape[0] * 0.8) // mb_size # 전체 데이터의 80퍼센트를 미니 배치 사이즈로 나누어 step_count 정의\n",
    "    test_begin_idx = step_count * mb_size # 테스트 데이터의 시작 인덱스 번호 생성\n",
    "    return step_count\n",
    "\n",
    "def get_test_data():\n",
    "    global data, shuffle_map, test_begin_idx, output_cnt # load_abalone_data와 arrage_data에서 생성한 변수들 사용\n",
    "    test_data = data[shuffle_map[test_begin_idx:]] # 테스트 데이터의 시작 위치를 이용해 test_data 생성\n",
    "    return test_data[:, :-output_cnt], test_data[:, -output_cnt] # 10개의 속성값이 x, 마지막 열이 label 데이터\n",
    "\n",
    "def get_train_data(mb_size, nth):\n",
    "    global data, shuffle_map, test_begin_idx, output_cnt # load_abalone_data, arrange_data에서 생성한 변수들 사용\n",
    "    if nth == 0: # 각 에폭의 첫 번째 호출일때 학습 데이터 부분에 대한 부분적인 순서를 섞어 에폭마다 다른 순서로 학습이 수행되게 함\n",
    "        np.random.shuffle(shuffle_map[:test_begin_idx])\n",
    "    \n",
    "    train_data = data[shuffle_map[mb_size*nth:mb_size*(nth+1)]]\n",
    "    return train_data[:, :-output_cnt], train_data[:, -output_cnt:] # 10개의 속성값이 x, 마지막 열이 label 데이터"
   ]
  },
  {
   "cell_type": "code",
   "execution_count": 6,
   "metadata": {},
   "outputs": [],
   "source": [
    "def eval_accuracy(output, y):\n",
    "    estimate = np.greater(output, 0)\n",
    "    answer = np.greater(y, 0.5)\n",
    "    correct = np.equal(estimate, answer)\n",
    "\n",
    "    return np.mean(correct)"
   ]
  },
  {
   "cell_type": "code",
   "execution_count": 7,
   "metadata": {},
   "outputs": [],
   "source": [
    "def relu(x):\n",
    "    return np.maximum(x, 0)\n",
    "\n",
    "def sigmoid(x):\n",
    "    return np.exp(-relu(-x)) / (1.0 + np.exp(-np.abs(x)))\n",
    "\n",
    "def sigmoid_derv(x, y):\n",
    "    return y * (1 - y)\n",
    "\n",
    "def sigmoid_cross_entropy_with_logits(z, x):\n",
    "    return relu(x) - x * z + np.log(1 + np.exp(-np.abs(x)))\n",
    "\n",
    "def sigmoid_cross_entropy_with_logits_derv(z, x):\n",
    "    return -z + sigmoid(x)"
   ]
  },
  {
   "cell_type": "code",
   "execution_count": 8,
   "metadata": {},
   "outputs": [],
   "source": [
    "def forward_postproc(output, y):\n",
    "    entropy = sigmoid_cross_entropy_with_logits(output, y)\n",
    "    loss = np.mean(entropy)\n",
    "    return loss, [y, output, entropy]\n",
    "\n",
    "def backprop_postproc(G_loss, aux):\n",
    "    y, output, entropy = aux\n",
    "\n",
    "    g_loss_entropy = 1.0 / np.prod(entropy.shape)\n",
    "    g_entropy_output = sigmoid_cross_entropy_with_logits_derv(y, output)\n",
    "\n",
    "    G_entropy = g_loss_entropy * G_loss\n",
    "    G_output = g_entropy_output * G_entropy\n",
    "\n",
    "    return G_output\n",
    "\n",
    "def backprop_postproc_oneline(G_loss, diff):\n",
    "    return 2 * diff / np.prod(diff.shape)"
   ]
  },
  {
   "cell_type": "code",
   "execution_count": 9,
   "metadata": {},
   "outputs": [],
   "source": [
    "def forward_neuralnet(x):\n",
    "    global weight, bias # init_model에서 선언한 wight, bias를 이용\n",
    "    output = np.matmul(x, weight) + bias # XW + b 수행\n",
    "    return output, x\n",
    "\n",
    "def backprop_neuralnet(G_output, x): # 역전파 처리 함수, 순전파 출력 output에 대한 손실 기울기 G_output \n",
    "    global weight, bias # init_model에서 선언한 wegith, bias를 이용\n",
    "    g_output_w = x.transpose() # x를 이용해 x와 output 사이의 부분 기울기 g_output_w를 구함\n",
    "\n",
    "    G_w = np.matmul(g_output_w, G_output) # 부분 기울기와 손실 기울기를 이용해 weight 성분의 손실 기울기 구함\n",
    "    G_b = np.sum(G_output, axis=0)\n",
    "\n",
    "    weight -= LEARNING_RATE * G_w\n",
    "    bias -= LEARNING_RATE * G_b"
   ]
  },
  {
   "cell_type": "code",
   "execution_count": 10,
   "metadata": {},
   "outputs": [],
   "source": [
    "def run_train(x, y):\n",
    "    # 순전파 과정 수행\n",
    "    output, aux_nn = forward_neuralnet(x)\n",
    "    loss, aux_pp = forward_postproc(output, y)\n",
    "    accuracy = eval_accuracy(output, y)\n",
    "\n",
    "    G_loss = 1.0\n",
    "    G_output = backprop_postproc(G_loss, aux_pp)\n",
    "    backprop_neuralnet(G_output, aux_nn)\n",
    "\n",
    "    return loss, accuracy\n",
    "\n",
    "def run_test(x, y):\n",
    "    output, _ = forward_neuralnet(x)\n",
    "    accuracy = eval_accuracy(output, y)\n",
    "    return accuracy"
   ]
  },
  {
   "cell_type": "code",
   "execution_count": 11,
   "metadata": {},
   "outputs": [],
   "source": [
    "def train_and_test(epoch_count:int, mb_size:int, report:int) -> None:\n",
    "    step_count = arrange_data(mb_size)\n",
    "    test_x, test_y = get_test_data()\n",
    "\n",
    "    for epoch in range(epoch_count):\n",
    "        losses, accs = [], []\n",
    "\n",
    "        for n in range(step_count):\n",
    "            train_x, train_y = get_train_data(mb_size, n)\n",
    "            loss, acc = run_train(train_x, train_y)\n",
    "            losses.append(loss)\n",
    "            accs.append(acc)\n",
    "        \n",
    "        if report > 0 and (epoch+1) % report == 0:\n",
    "            acc = run_test(test_x, test_y)\n",
    "            print(f\"Epoch {epoch+1} loss={np.mean(losses):5.3f} accuracy={np.mean(accs):5.3f}/{acc:5.3f}.\")\n",
    "    \n",
    "    final_acc = run_test(test_x, test_y)\n",
    "    print(f\"\\nFinal Test: final accuracy = {final_acc:5.3f}\")"
   ]
  },
  {
   "cell_type": "code",
   "execution_count": 12,
   "metadata": {},
   "outputs": [],
   "source": [
    "def init_model() -> None:\n",
    "    global weight, bias, input_cnt, output_cnt # 전역 변수로 wieght, bias 생성, load_abalone_dataset에서 생성한 input_cnt, output_cnt 사용\n",
    "    weight = np.random.normal(RND_MEAN, RND_STD, [input_cnt, output_cnt]) # RND_MEAN, RND_STD를 이용해 input_cnt * output_cnt 형태의 파라미터 생성\n",
    "    bias = np.zeros([output_cnt])"
   ]
  },
  {
   "cell_type": "code",
   "execution_count": 13,
   "metadata": {},
   "outputs": [],
   "source": [
    "def pulsra_exec(epoch_count=10, mb_size=10, report=1):\n",
    "    load_pulsar_dataset()\n",
    "    init_model()\n",
    "    train_and_test(epoch_count, mb_size, report)"
   ]
  },
  {
   "cell_type": "code",
   "execution_count": 14,
   "metadata": {},
   "outputs": [
    {
     "name": "stdout",
     "output_type": "stream",
     "text": [
      "Epoch 1 loss=0.744 accuracy=0.955/0.237.\n",
      "Epoch 2 loss=0.672 accuracy=0.965/0.241.\n",
      "Epoch 3 loss=0.633 accuracy=0.967/0.242.\n",
      "Epoch 4 loss=0.617 accuracy=0.969/0.245.\n",
      "Epoch 5 loss=0.599 accuracy=0.969/0.250.\n",
      "Epoch 6 loss=0.582 accuracy=0.970/0.253.\n",
      "Epoch 7 loss=0.573 accuracy=0.969/0.254.\n",
      "Epoch 8 loss=0.560 accuracy=0.970/0.252.\n",
      "Epoch 9 loss=0.548 accuracy=0.970/0.247.\n",
      "Epoch 10 loss=0.545 accuracy=0.970/0.249.\n",
      "\n",
      "Final Test: final accuracy = 0.249\n"
     ]
    }
   ],
   "source": [
    "pulsra_exec()"
   ]
  }
 ],
 "metadata": {
  "kernelspec": {
   "display_name": "Python 3.8.13",
   "language": "python",
   "name": "python3"
  },
  "language_info": {
   "codemirror_mode": {
    "name": "ipython",
    "version": 3
   },
   "file_extension": ".py",
   "mimetype": "text/x-python",
   "name": "python",
   "nbconvert_exporter": "python",
   "pygments_lexer": "ipython3",
   "version": "3.8.13"
  },
  "orig_nbformat": 4,
  "vscode": {
   "interpreter": {
    "hash": "3bab46a45a0d910fd4817a596a6f54d475a6b641f2cf3c50900c986315bdf38e"
   }
  }
 },
 "nbformat": 4,
 "nbformat_minor": 2
}
